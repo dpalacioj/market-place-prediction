{
 "cells": [
  {
   "cell_type": "code",
   "execution_count": 1,
   "id": "initial_id",
   "metadata": {
    "ExecuteTime": {
     "end_time": "2025-03-27T17:23:09.594288100Z",
     "start_time": "2025-03-27T17:23:07.869725900Z"
    },
    "collapsed": true
   },
   "outputs": [],
   "source": [
    "# app/src/api/main.py\n",
    "from fastapi import FastAPI, HTTPException\n",
    "from app.src.features.preprocessing import Preprocessing\n",
    "from app.src.utils.utils import predicted_values\n",
    "from app.src.utils.schemas import ItemsFullSchema\n",
    "from app.src.config import MODEL_PATH, MODEL_NAME\n",
    "import pandas as pd\n",
    "import os\n",
    "from joblib import load\n",
    "\n",
    "app = FastAPI(title=\"API for predicted model for New or Used items\", version=\"1.0\")\n",
    "\n",
    "# Cargar modelo\n",
    "model_loaded = os.path.join(MODEL_PATH, MODEL_NAME)\n",
    "try:\n",
    "    model = load(model_loaded)\n",
    "except Exception as e:\n",
    "    raise RuntimeError(f\"Error cargando el modelo: {e}\")\n",
    "\n",
    "preprocessor = Preprocessing()"
   ]
  },
  {
   "cell_type": "code",
   "execution_count": null,
   "id": "3333e680b838602d",
   "metadata": {
    "ExecuteTime": {
     "end_time": "2025-03-27T17:26:14.088856Z",
     "start_time": "2025-03-27T17:26:14.081236500Z"
    },
    "collapsed": false
   },
   "outputs": [],
   "source": [
    "# {\n",
    "#   \"inputs\": [\n",
    "#     {\n",
    "#       \"seller_address\": {\n",
    "#         \"country\": {\"name\": \"Argentina\", \"id\": \"AR\"},\n",
    "#         \"state\": {\"name\": \"Capital Federal\", \"id\": \"AR-C\"},\n",
    "#         \"city\": {\"name\": \"San Cristóbal\", \"id\": \"TUxBQlNBTjkwNTZa\"}\n",
    "#       },\n",
    "#       \"warranty\": null,\n",
    "#       \"condition\": \"new\",\n",
    "#       \"base_price\": 80.0,\n",
    "#       \"price\": 80.0,\n",
    "#       \"shipping\": {\n",
    "#         \"local_pick_up\": true,\n",
    "#         \"free_shipping\": false,\n",
    "#         \"mode\": \"not_specified\",\n",
    "#         \"tags\": []\n",
    "#       },\n",
    "#       \"non_mercado_pago_payment_methods\": [\n",
    "#         {\"description\": \"Transferencia bancaria\", \"id\": \"MLATB\", \"type\": \"G\"},\n",
    "#         {\"description\": \"Acordar con el comprador\", \"id\": \"MLAWC\", \"type\": \"G\"},\n",
    "#         {\"description\": \"Efectivo\", \"id\": \"MLAMO\", \"type\": \"G\"}\n",
    "#       ],\n",
    "#       \"seller_id\": 74952096,\n",
    "#       \"listing_type_id\": \"bronze\",\n",
    "#       \"available_quantity\": 1,\n",
    "#       \"sold_quantity\": 0.0,\n",
    "#       \"start_time\": 1441485773000,\n",
    "#       \"stop_time\": 1446669773000,\n",
    "#       \"accepts_mercadopago\": true,\n",
    "#       \"currency_id\": \"ARS\",\n",
    "#       \"tags\": [\"dragged_bids_and_visits\"],\n",
    "#       \"automatic_relist\": false,\n",
    "#       \"category_id\": \"MLA126406\",\n",
    "#       \"parent_item_id\": \"MLA568261029\",\n",
    "#       \"status\": \"active\",\n",
    "#       \"video_id\": null,\n",
    "#       \"original_price\": null,\n",
    "#       \"buying_mode\": \"buy_it_now\",\n",
    "#       \"initial_quantity\": 1\n",
    "#     }\n",
    "#   ]\n",
    "# }\n",
    "\n",
    "sample_input = {\n",
    "    \"inputs\": [\n",
    "        {\n",
    "            \"seller_address\": {\n",
    "                \"country\": {\"name\": \"Argentina\", \"id\": \"AR\"},\n",
    "                \"state\": {\"name\": \"Capital Federal\", \"id\": \"AR-C\"},\n",
    "                \"city\": {\"name\": \"San Cristóbal\", \"id\": \"TUxBQlNBTjkwNTZa\"}\n",
    "            },\n",
    "            \"warranty\": None,\n",
    "            \"base_price\": 80.0,\n",
    "            \"price\": 80.0,\n",
    "            \"shipping\": {\n",
    "                \"local_pick_up\": True,\n",
    "                \"free_shipping\": False,\n",
    "                \"mode\": \"not_specified\",\n",
    "                \"tags\": []\n",
    "            },\n",
    "            \"non_mercado_pago_payment_methods\": [\n",
    "                {\"description\": \"Transferencia bancaria\", \"id\": \"MLATB\", \"type\": \"G\"},\n",
    "                {\"description\": \"Acordar con el comprador\", \"id\": \"MLAWC\", \"type\": \"G\"},\n",
    "                {\"description\": \"Efectivo\", \"id\": \"MLAMO\", \"type\": \"G\"}\n",
    "            ],\n",
    "            \"seller_id\": 74952096,\n",
    "            \"listing_type_id\": \"bronze\",\n",
    "            \"available_quantity\": 1,\n",
    "            \"sold_quantity\": 0.0,\n",
    "            \"start_time\": 1441485773000,\n",
    "            \"stop_time\": 1446669773000,\n",
    "            \"accepts_mercadopago\": True,\n",
    "            \"currency_id\": \"ARS\",\n",
    "            \"tags\": [\"dragged_bids_and_visits\"],\n",
    "            \"automatic_relist\": False,\n",
    "            \"category_id\": \"MLA126406\",\n",
    "            \"parent_item_id\": \"MLA568261029\",\n",
    "            \"status\": \"active\",\n",
    "            \"video_id\": None,\n",
    "            \"original_price\": None,\n",
    "            \"buying_mode\": \"buy_it_now\",\n",
    "            \"initial_quantity\": 1\n",
    "        }\n",
    "    ]\n",
    "}"
   ]
  },
  {
   "cell_type": "code",
   "execution_count": 5,
   "id": "db988e697c7cf62e",
   "metadata": {
    "ExecuteTime": {
     "end_time": "2025-03-27T17:26:14.478678600Z",
     "start_time": "2025-03-27T17:26:14.455915400Z"
    },
    "collapsed": false
   },
   "outputs": [
    {
     "data": {
      "text/html": [
       "<div>\n",
       "<style scoped>\n",
       "    .dataframe tbody tr th:only-of-type {\n",
       "        vertical-align: middle;\n",
       "    }\n",
       "\n",
       "    .dataframe tbody tr th {\n",
       "        vertical-align: top;\n",
       "    }\n",
       "\n",
       "    .dataframe thead th {\n",
       "        text-align: right;\n",
       "    }\n",
       "</style>\n",
       "<table border=\"1\" class=\"dataframe\">\n",
       "  <thead>\n",
       "    <tr style=\"text-align: right;\">\n",
       "      <th></th>\n",
       "      <th>seller_address</th>\n",
       "      <th>warranty</th>\n",
       "      <th>base_price</th>\n",
       "      <th>price</th>\n",
       "      <th>shipping</th>\n",
       "      <th>non_mercado_pago_payment_methods</th>\n",
       "      <th>seller_id</th>\n",
       "      <th>listing_type_id</th>\n",
       "      <th>available_quantity</th>\n",
       "      <th>sold_quantity</th>\n",
       "      <th>...</th>\n",
       "      <th>currency_id</th>\n",
       "      <th>tags</th>\n",
       "      <th>automatic_relist</th>\n",
       "      <th>category_id</th>\n",
       "      <th>parent_item_id</th>\n",
       "      <th>status</th>\n",
       "      <th>video_id</th>\n",
       "      <th>original_price</th>\n",
       "      <th>buying_mode</th>\n",
       "      <th>initial_quantity</th>\n",
       "    </tr>\n",
       "  </thead>\n",
       "  <tbody>\n",
       "    <tr>\n",
       "      <th>0</th>\n",
       "      <td>{'country': {'name': 'Argentina', 'id': 'AR'},...</td>\n",
       "      <td>None</td>\n",
       "      <td>80.0</td>\n",
       "      <td>80.0</td>\n",
       "      <td>{'local_pick_up': True, 'free_shipping': False...</td>\n",
       "      <td>[{'description': 'Transferencia bancaria', 'id...</td>\n",
       "      <td>74952096</td>\n",
       "      <td>bronze</td>\n",
       "      <td>1</td>\n",
       "      <td>0.0</td>\n",
       "      <td>...</td>\n",
       "      <td>ARS</td>\n",
       "      <td>[dragged_bids_and_visits]</td>\n",
       "      <td>False</td>\n",
       "      <td>MLA126406</td>\n",
       "      <td>MLA568261029</td>\n",
       "      <td>active</td>\n",
       "      <td>None</td>\n",
       "      <td>None</td>\n",
       "      <td>buy_it_now</td>\n",
       "      <td>1</td>\n",
       "    </tr>\n",
       "  </tbody>\n",
       "</table>\n",
       "<p>1 rows × 23 columns</p>\n",
       "</div>"
      ],
      "text/plain": [
       "                                      seller_address warranty  base_price  \\\n",
       "0  {'country': {'name': 'Argentina', 'id': 'AR'},...     None        80.0   \n",
       "\n",
       "   price                                           shipping  \\\n",
       "0   80.0  {'local_pick_up': True, 'free_shipping': False...   \n",
       "\n",
       "                    non_mercado_pago_payment_methods  seller_id  \\\n",
       "0  [{'description': 'Transferencia bancaria', 'id...   74952096   \n",
       "\n",
       "  listing_type_id  available_quantity  sold_quantity  ...  currency_id  \\\n",
       "0          bronze                   1            0.0  ...          ARS   \n",
       "\n",
       "                        tags  automatic_relist category_id parent_item_id  \\\n",
       "0  [dragged_bids_and_visits]             False   MLA126406   MLA568261029   \n",
       "\n",
       "   status video_id original_price buying_mode initial_quantity  \n",
       "0  active     None           None  buy_it_now                1  \n",
       "\n",
       "[1 rows x 23 columns]"
      ]
     },
     "execution_count": 5,
     "metadata": {},
     "output_type": "execute_result"
    }
   ],
   "source": [
    "df = pd.DataFrame(sample_input[\"inputs\"])\n",
    "df"
   ]
  },
  {
   "cell_type": "code",
   "execution_count": 6,
   "id": "3c17a512a01bd0f9",
   "metadata": {
    "ExecuteTime": {
     "end_time": "2025-03-27T17:26:21.455590300Z",
     "start_time": "2025-03-27T17:26:21.440605200Z"
    },
    "collapsed": false
   },
   "outputs": [
    {
     "data": {
      "text/html": [
       "<div>\n",
       "<style scoped>\n",
       "    .dataframe tbody tr th:only-of-type {\n",
       "        vertical-align: middle;\n",
       "    }\n",
       "\n",
       "    .dataframe tbody tr th {\n",
       "        vertical-align: top;\n",
       "    }\n",
       "\n",
       "    .dataframe thead th {\n",
       "        text-align: right;\n",
       "    }\n",
       "</style>\n",
       "<table border=\"1\" class=\"dataframe\">\n",
       "  <thead>\n",
       "    <tr style=\"text-align: right;\">\n",
       "      <th></th>\n",
       "      <th>initial_quantity</th>\n",
       "      <th>listing_type_id</th>\n",
       "      <th>seller_city</th>\n",
       "      <th>price</th>\n",
       "      <th>available_quantity</th>\n",
       "      <th>week_day</th>\n",
       "      <th>sold_quantity</th>\n",
       "      <th>seller_state</th>\n",
       "      <th>garantia_aplica</th>\n",
       "      <th>shipping_mode</th>\n",
       "      <th>month_start</th>\n",
       "      <th>month_stop</th>\n",
       "      <th>tarjeta_de_credito</th>\n",
       "      <th>dragged_bids_and_visits</th>\n",
       "      <th>transferencia_bancaria</th>\n",
       "      <th>shipping_local_pick_up</th>\n",
       "      <th>efectivo</th>\n",
       "      <th>automatic_relist</th>\n",
       "      <th>days_active</th>\n",
       "      <th>acordar_con_el_comprador</th>\n",
       "    </tr>\n",
       "  </thead>\n",
       "  <tbody>\n",
       "    <tr>\n",
       "      <th>0</th>\n",
       "      <td>1</td>\n",
       "      <td>0</td>\n",
       "      <td>0</td>\n",
       "      <td>80.0</td>\n",
       "      <td>1</td>\n",
       "      <td>0</td>\n",
       "      <td>NaN</td>\n",
       "      <td>0</td>\n",
       "      <td>0</td>\n",
       "      <td>0</td>\n",
       "      <td>0</td>\n",
       "      <td>0</td>\n",
       "      <td>False</td>\n",
       "      <td>1</td>\n",
       "      <td>True</td>\n",
       "      <td>True</td>\n",
       "      <td>True</td>\n",
       "      <td>False</td>\n",
       "      <td>0</td>\n",
       "      <td>True</td>\n",
       "    </tr>\n",
       "  </tbody>\n",
       "</table>\n",
       "</div>"
      ],
      "text/plain": [
       "   initial_quantity  listing_type_id  seller_city  price  available_quantity  \\\n",
       "0                 1                0            0   80.0                   1   \n",
       "\n",
       "   week_day  sold_quantity  seller_state  garantia_aplica  shipping_mode  \\\n",
       "0         0            NaN             0                0              0   \n",
       "\n",
       "   month_start  month_stop  tarjeta_de_credito  dragged_bids_and_visits  \\\n",
       "0            0           0               False                        1   \n",
       "\n",
       "   transferencia_bancaria  shipping_local_pick_up  efectivo  automatic_relist  \\\n",
       "0                    True                    True      True             False   \n",
       "\n",
       "   days_active  acordar_con_el_comprador  \n",
       "0            0                      True  "
      ]
     },
     "execution_count": 6,
     "metadata": {},
     "output_type": "execute_result"
    }
   ],
   "source": [
    "preprocessor = Preprocessing()\n",
    "processed = preprocessor.transform(df)\n",
    "processed = processed.drop(columns=['condition'])\n",
    "processed"
   ]
  },
  {
   "cell_type": "code",
   "execution_count": 7,
   "id": "20d5fb71c3413ef6",
   "metadata": {
    "ExecuteTime": {
     "end_time": "2025-03-27T17:26:24.450963100Z",
     "start_time": "2025-03-27T17:26:24.384815200Z"
    },
    "collapsed": false
   },
   "outputs": [],
   "source": [
    "# Cargar modelo\n",
    "model_loaded = os.path.join(MODEL_PATH, MODEL_NAME)\n",
    "try:\n",
    "    model = load(model_loaded)\n",
    "except Exception as e:\n",
    "    raise RuntimeError(f\"Error cargando el modelo: {e}\")"
   ]
  },
  {
   "cell_type": "code",
   "execution_count": 8,
   "id": "8322cda587fe5c86",
   "metadata": {
    "ExecuteTime": {
     "end_time": "2025-03-27T17:26:25.839952100Z",
     "start_time": "2025-03-27T17:26:25.798595700Z"
    },
    "collapsed": false
   },
   "outputs": [
    {
     "data": {
      "text/plain": [
       "Index(['initial_quantity', 'listing_type_id', 'seller_city', 'price',\n",
       "       'available_quantity', 'week_day', 'sold_quantity', 'seller_state',\n",
       "       'garantia_aplica', 'shipping_mode', 'month_start', 'month_stop',\n",
       "       'tarjeta_de_credito', 'dragged_bids_and_visits',\n",
       "       'transferencia_bancaria', 'shipping_local_pick_up', 'efectivo',\n",
       "       'automatic_relist', 'days_active', 'acordar_con_el_comprador'],\n",
       "      dtype='object')"
      ]
     },
     "execution_count": 8,
     "metadata": {},
     "output_type": "execute_result"
    }
   ],
   "source": [
    "processed.columns"
   ]
  },
  {
   "cell_type": "code",
   "execution_count": 9,
   "id": "4b9b7dea7dcbb3f2",
   "metadata": {
    "ExecuteTime": {
     "end_time": "2025-03-27T17:26:27.307985400Z",
     "start_time": "2025-03-27T17:26:27.295678500Z"
    },
    "collapsed": false
   },
   "outputs": [],
   "source": [
    "preds = model.predict(processed)"
   ]
  },
  {
   "cell_type": "code",
   "execution_count": 10,
   "id": "fa57b82fe5aa8e86",
   "metadata": {
    "ExecuteTime": {
     "end_time": "2025-03-27T17:26:28.129105400Z",
     "start_time": "2025-03-27T17:26:28.124646600Z"
    },
    "collapsed": false
   },
   "outputs": [
    {
     "data": {
      "text/plain": [
       "'New'"
      ]
     },
     "execution_count": 10,
     "metadata": {},
     "output_type": "execute_result"
    }
   ],
   "source": [
    "predicted_values(preds)"
   ]
  },
  {
   "cell_type": "code",
   "execution_count": null,
   "id": "4a526c7736ac83df",
   "metadata": {
    "collapsed": false
   },
   "outputs": [],
   "source": []
  }
 ],
 "metadata": {
  "kernelspec": {
   "display_name": "Python 3",
   "language": "python",
   "name": "python3"
  },
  "language_info": {
   "codemirror_mode": {
    "name": "ipython",
    "version": 2
   },
   "file_extension": ".py",
   "mimetype": "text/x-python",
   "name": "python",
   "nbconvert_exporter": "python",
   "pygments_lexer": "ipython2",
   "version": "2.7.6"
  }
 },
 "nbformat": 4,
 "nbformat_minor": 5
}
